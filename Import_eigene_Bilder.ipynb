{
  "nbformat": 4,
  "nbformat_minor": 0,
  "metadata": {
    "colab": {
      "name": "Import_eigene_Bilder.ipynb",
      "provenance": [],
      "collapsed_sections": [],
      "authorship_tag": "ABX9TyOOTToaHZb5dV/qHlhS7blw",
      "include_colab_link": true
    },
    "kernelspec": {
      "name": "python3",
      "display_name": "Python 3"
    }
  },
  "cells": [
    {
      "cell_type": "markdown",
      "metadata": {
        "id": "view-in-github",
        "colab_type": "text"
      },
      "source": [
        "<a href=\"https://colab.research.google.com/github/Jfrenzel1966/Test/blob/master/Import_eigene_Bilder.ipynb\" target=\"_parent\"><img src=\"https://colab.research.google.com/assets/colab-badge.svg\" alt=\"Open In Colab\"/></a>"
      ]
    },
    {
      "cell_type": "code",
      "metadata": {
        "id": "K1E2-TtjNa25",
        "colab_type": "code",
        "colab": {
          "base_uri": "https://localhost:8080/",
          "height": 367
        },
        "outputId": "b8d90302-f070-4c8c-b36a-783fe5896510"
      },
      "source": [
        "import numpy as np \n",
        "from google.colab import files\n",
        "from keras.processing import image #library importiert bilder und wandelt das Bild in zahlenreihen um\n",
        "import cv2 #library wandelt bilder in schwarz/weiß bilder um\n",
        "import matplotlib.pyplot as plt #library stellt das anze dar\n",
        "# import tensorflow as tf\n",
        "\n",
        "uploaded = file.upload()\n",
        "\n",
        "for fn in uploaded.keys():\n",
        " #in diesem Abschnittwerden die Bilder eingeladen; Schleife, weil mehrer Bilder eingeladen werden können\n",
        " path = '/content' + fn\n",
        " img = cv2.imread(path)\n",
        "\n",
        " #in diesem Abschnitt werden die Bilder formatiert, dass sie in das neuronale netz passen\n",
        " img = cv2.resize(img,(28,28))\n",
        " img = cv2.cvtColor(img, cv2.COLOR_BGR2GRAY)\n",
        " x = image.img_to_array(img)\n",
        " x = x / 255.0\n",
        " x = np.expand_dims(axis, axis=0)\n",
        " x = x.reshape(1, 28, 28, 1) # diese bildform wird für die erkennung benötigt\n",
        "\n",
        " #in diesem Abschnitt schätzt das neuronae netz ein, um welche Art von Kleidungsstück es sich handelt\n",
        " classes = model.predict(x)     #identifizieren\n",
        " print(classes[0])              #zeigt die Art des Kleidungsstückes\n",
        " print(np.argmax(classes[0]))   #anzeige der art des Kleidungsstück aus der Vergleichsliste \n",
        " plt.imShow(img, cmap='Greys_r')#anzeige des bildes\n"
      ],
      "execution_count": 1,
      "outputs": [
        {
          "output_type": "error",
          "ename": "ModuleNotFoundError",
          "evalue": "ignored",
          "traceback": [
            "\u001b[0;31m---------------------------------------------------------------------------\u001b[0m",
            "\u001b[0;31mModuleNotFoundError\u001b[0m                       Traceback (most recent call last)",
            "\u001b[0;32m<ipython-input-1-423113a639f4>\u001b[0m in \u001b[0;36m<module>\u001b[0;34m()\u001b[0m\n\u001b[0;32m----> 1\u001b[0;31m \u001b[0;32mimport\u001b[0m \u001b[0mnumphy\u001b[0m \u001b[0;32mas\u001b[0m \u001b[0mnp\u001b[0m\u001b[0;34m\u001b[0m\u001b[0;34m\u001b[0m\u001b[0m\n\u001b[0m\u001b[1;32m      2\u001b[0m \u001b[0;32mfrom\u001b[0m \u001b[0mgoogle\u001b[0m\u001b[0;34m.\u001b[0m\u001b[0mcolab\u001b[0m \u001b[0;32mimport\u001b[0m \u001b[0mfiles\u001b[0m\u001b[0;34m\u001b[0m\u001b[0;34m\u001b[0m\u001b[0m\n\u001b[1;32m      3\u001b[0m \u001b[0;32mfrom\u001b[0m \u001b[0mkeras\u001b[0m\u001b[0;34m.\u001b[0m\u001b[0mprocessing\u001b[0m \u001b[0;32mimport\u001b[0m \u001b[0mimage\u001b[0m \u001b[0;31m#library importiert bilder und wandelt das Bild in zahlenreihen um\u001b[0m\u001b[0;34m\u001b[0m\u001b[0;34m\u001b[0m\u001b[0m\n\u001b[1;32m      4\u001b[0m \u001b[0;32mimport\u001b[0m \u001b[0mcv2\u001b[0m \u001b[0;31m#library wandelt bilder in schwarz/weiß bilder um\u001b[0m\u001b[0;34m\u001b[0m\u001b[0;34m\u001b[0m\u001b[0m\n\u001b[1;32m      5\u001b[0m \u001b[0;32mimport\u001b[0m \u001b[0mmatplotlib\u001b[0m\u001b[0;34m.\u001b[0m\u001b[0mpyplot\u001b[0m \u001b[0;32mas\u001b[0m \u001b[0mplt\u001b[0m \u001b[0;31m#library stellt das anze dar\u001b[0m\u001b[0;34m\u001b[0m\u001b[0;34m\u001b[0m\u001b[0m\n",
            "\u001b[0;31mModuleNotFoundError\u001b[0m: No module named 'numphy'",
            "",
            "\u001b[0;31m---------------------------------------------------------------------------\u001b[0;32m\nNOTE: If your import is failing due to a missing package, you can\nmanually install dependencies using either !pip or !apt.\n\nTo view examples of installing some common dependencies, click the\n\"Open Examples\" button below.\n\u001b[0;31m---------------------------------------------------------------------------\u001b[0m\n"
          ]
        }
      ]
    }
  ]
}