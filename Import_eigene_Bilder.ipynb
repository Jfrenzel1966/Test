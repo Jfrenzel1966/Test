{
  "nbformat": 4,
  "nbformat_minor": 0,
  "metadata": {
    "colab": {
      "name": "Import_eigene_Bilder.ipynb",
      "provenance": [],
      "collapsed_sections": [],
      "authorship_tag": "ABX9TyMyWo02Q70AUJVboqthhzon",
      "include_colab_link": true
    },
    "kernelspec": {
      "name": "python3",
      "display_name": "Python 3"
    }
  },
  "cells": [
    {
      "cell_type": "markdown",
      "metadata": {
        "id": "view-in-github",
        "colab_type": "text"
      },
      "source": [
        "<a href=\"https://colab.research.google.com/github/Jfrenzel1966/Test/blob/master/Import_eigene_Bilder.ipynb\" target=\"_parent\"><img src=\"https://colab.research.google.com/assets/colab-badge.svg\" alt=\"Open In Colab\"/></a>"
      ]
    },
    {
      "cell_type": "code",
      "metadata": {
        "id": "K1E2-TtjNa25",
        "colab_type": "code",
        "colab": {}
      },
      "source": [
        "import numphy as np \n",
        "from google.colab import files\n",
        "from keras.processing import image #library importiert bilder und wandelt das Bild in zahlenreihen um\n",
        "import cv2 #library wandelt bilder in schwarz/weiß bilder um\n",
        "import matplotlib.pyplot as plt #library stellt das anze dar\n",
        "# import tensorflow as tf\n",
        "\n",
        "uploaded = file.upload()\n",
        "\n",
        "for fn in uploaded.keys():\n",
        " #in diesem Abschnittwerden die Bilder eingeladen; Schleife, weil mehrer Bilder eingeladen werden können\n",
        " path = '/content' + fn\n",
        " img = cv2.imread(path)\n",
        "\n",
        " #in diesem Abschnitt werden die Bilder formatiert, dass sie in das neuronale netz passen\n",
        " img = cv2.resize(img,(28,28))\n",
        " img = cv2.cvtColor(img, cv2.COLOR_BGR2GRAY)\n",
        " x = image.img_to_array(img)\n",
        " x = x / 255.0\n",
        " x = np.expand_dims(axis, axis=0)\n",
        " x = x.reshape(1, 28, 28, 1) # diese bildform wird für die erkennung benötigt\n",
        "\n",
        " #in diesem Abschnitt schätzt das neuronae netz ein, um welche Art von Kleidungsstück es sich handelt\n",
        " classes = model.predict(x)     #identifizieren\n",
        " print(classes[0])              #zeigt die Art des Kleidungsstückes\n",
        " print(np.argmax(classes[0]))   #anzeige der art des Kleidungsstück aus der Vergleichsliste \n",
        " plt.imShow(img, cmap='Greys_r')#anzeige des bildes\n"
      ],
      "execution_count": null,
      "outputs": []
    }
  ]
}