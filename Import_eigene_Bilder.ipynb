{
  "nbformat": 4,
  "nbformat_minor": 0,
  "metadata": {
    "colab": {
      "name": "Import_eigene_Bilder.ipynb",
      "provenance": [],
      "collapsed_sections": [],
      "authorship_tag": "ABX9TyM7+aqa89Nt3Rj9XFruYfXz",
      "include_colab_link": true
    },
    "kernelspec": {
      "name": "python3",
      "display_name": "Python 3"
    }
  },
  "cells": [
    {
      "cell_type": "markdown",
      "metadata": {
        "id": "view-in-github",
        "colab_type": "text"
      },
      "source": [
        "<a href=\"https://colab.research.google.com/github/Jfrenzel1966/Test/blob/master/Import_eigene_Bilder.ipynb\" target=\"_parent\"><img src=\"https://colab.research.google.com/assets/colab-badge.svg\" alt=\"Open In Colab\"/></a>"
      ]
    },
    {
      "cell_type": "code",
      "metadata": {
        "id": "K1E2-TtjNa25",
        "colab_type": "code",
        "colab": {}
      },
      "source": [
        "import numphy as np\n",
        "from google.colab import files\n",
        "from keras.processing import image\n",
        "import cv2\n",
        "import matplotlib.pyplot as plt\n",
        "# import tensorflow as tf\n",
        "\n",
        "uploaded = file.upload()\n",
        "\n",
        "for fn in uploaded.keys():\n",
        " #in diesem Abschnittwerden die Bilder eingeladen; Schleife, weil mehrer Bilder eingeladen werden können\n",
        " path = '/content' + fn\n",
        " img = cv2.imread(path)\n",
        "\n",
        " #in diesem Abschnitt werden die Bilder formatiert, dass sie in das neuronale netz passen\n",
        " img = cv2.resize(img,(28,28))\n",
        "\n",
        "\n",
        "mnist = tf.keras.datasets.fashion_mnist\n",
        "(training_images, training_labels), (test_images, test_labels) = mnist.load_data() # daten aus der Bilderdatnbank laden\n",
        "\n",
        "#reshape - vorbereiten der Daten für die Verarbeitung\n",
        "trainings_images = training_images.reshape(60000, 28, 28, 1) #60000 Bilder, 28 mal 28 pixel, 1 = schwarz-weiß-Bilder, farbe wäre 3 = RGB Farbschema\n",
        "training_images = training_images / 255.0 #wandelt den Wertebereich von 0 bis 255 in 0 bis 1 um, damit kommen neuronale netze besser zurecht\n",
        "\n",
        "test_images = test_images.reshape(10000, 28, 28, 1) #10000 Test-Bilder, 28 mal 28 pixel, 1 = schwarz-weiß-Bilder, farbe wäre 3 = RGB Farbschema\n",
        "test_images = test_images / 255.0 #wandelt den Wertebereich von 0 bis 255 in 0 bis 1 um, damit kommen neuronale netze besser zurecht\n",
        "\n",
        "#neuronales netz mit seinen layern definieren\n",
        "model = tf.keras.models.Sequential([\n",
        "        tf.keras.layers.Flatten(), #1. Layer, Flatten() wandelt die bilder in einen dualen datenstring um\n",
        "        tf.keras.layers.Dense(128, activation ='relu'), #128 Neuronen des neuronalen netzes und einen activator namens relu festlegen\n",
        "        tf.keras.layers.Dense(10, activation ='softmax') #10 Neuronen bilden jedes Neuron = 1 Kleidungsstück softmax sorgt dafür, dass die Summe \n",
        "        # der 10 Zahlenwerte = 1 ist ermittelt die Wahrscheinlichkit zuwieviel Proznt das Kleidungsstück hose, hemd oder kleid ist\n",
        "        # 10% = hose, zu 20% hemd und zu 70% ein Kleid = 100%=1 logisch, oder?\n",
        "])\n",
        "\n",
        "model.compile(optimizer='adam', loss ='sparse_categorical_crossentropy', metrics =['accuracy'])\n",
        "# loss-wert sagt, wie groß der Fehler de neuronalen Netzes ist\n",
        "#festlegen, wie oft das neuronale ntz durchlaufen wird\n",
        "model.fit(training_images, training_labels, epochs= 100)"
      ],
      "execution_count": null,
      "outputs": []
    }
  ]
}